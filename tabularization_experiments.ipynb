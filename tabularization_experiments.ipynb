{
 "cells": [
  {
   "cell_type": "markdown",
   "id": "fda802f3",
   "metadata": {
    "tags": []
   },
   "source": [
    "# Tabularization Refactoring Experiments"
   ]
  },
  {
   "cell_type": "code",
   "execution_count": 1,
   "id": "4d8b201c-108b-45eb-ac6f-c966c18a343c",
   "metadata": {},
   "outputs": [],
   "source": [
    "from tab_experiment_utils import test_correctness, perform_profiling, perform_benchmarks"
   ]
  },
  {
   "cell_type": "markdown",
   "id": "0c6fc0b2-7ae3-4ff6-8094-72a7e90414de",
   "metadata": {
    "tags": []
   },
   "source": [
    "## Correctness Checks"
   ]
  },
  {
   "cell_type": "markdown",
   "id": "36caaedb-db72-4f1b-986a-46181a410b9d",
   "metadata": {},
   "source": [
    "### With Unequal Frequency Series (Uses Date Intersection method)"
   ]
  },
  {
   "cell_type": "code",
   "execution_count": null,
   "id": "5011e64e-cec5-4b15-b4c8-bf7828a592a8",
   "metadata": {},
   "outputs": [
    {
     "name": "stdout",
     "output_type": "stream",
     "text": [
      "Passed 1000/10240\n"
     ]
    }
   ],
   "source": [
    "# Using series with `pd.RangeIndex`-typed `time_index`s:\n",
    "test_correctness(equal_freq=False, use_range_idx=True)"
   ]
  },
  {
   "cell_type": "code",
   "execution_count": null,
   "id": "b8b4a8bf-73f5-47b9-a1d4-293de0f666f9",
   "metadata": {},
   "outputs": [],
   "source": [
    "# Using series with `pd.DatetimeIndex`-typed `time_index`s:\n",
    "test_correctness(equal_freq=False, use_range_idx=False)"
   ]
  },
  {
   "cell_type": "markdown",
   "id": "4aa03ac2-39b8-4241-b325-b16e65bf18d1",
   "metadata": {},
   "source": [
    "### With Equal Frequency Series (Uses Sliding Window method)"
   ]
  },
  {
   "cell_type": "code",
   "execution_count": null,
   "id": "a08343cb-3064-4ac1-93f0-4a013bdbe68b",
   "metadata": {},
   "outputs": [],
   "source": [
    "# Using series with `pd.RangeIndex`-typed `time_index`s:\n",
    "test_correctness(equal_freq=True, use_range_idx=True)"
   ]
  },
  {
   "cell_type": "code",
   "execution_count": null,
   "id": "0ecf4936-241c-471f-baeb-8b7ea48261c5",
   "metadata": {},
   "outputs": [],
   "source": [
    "# Using series with `pd.DatetimeIndex`-typed `time_index`s:\n",
    "test_correctness(equal_freq=True, use_range_idx=False)"
   ]
  },
  {
   "cell_type": "markdown",
   "id": "38899c53-9ab3-4ad1-b6bc-8b7714c581b8",
   "metadata": {
    "tags": []
   },
   "source": [
    "## Speed Benchmarks"
   ]
  },
  {
   "cell_type": "markdown",
   "id": "67b9db14-2c2e-4585-86e4-47db1d0302f9",
   "metadata": {},
   "source": [
    "### Small Number of Lags, No `max_samples_per_ts`"
   ]
  },
  {
   "cell_type": "code",
   "execution_count": null,
   "id": "312fc493-abac-41b5-8578-75accfd784a1",
   "metadata": {},
   "outputs": [],
   "source": [
    "perform_benchmarks(\n",
    "    num_repeats=1000,\n",
    "    use_range_idx=False,\n",
    "    multi_models=True,\n",
    "    lags=[-1],\n",
    "    lags_past_covariates=[-2],\n",
    "    lags_future_covariates=[-3],\n",
    "    output_chunk_length=10,\n",
    "    max_samples_per_ts=None,\n",
    ")"
   ]
  },
  {
   "cell_type": "markdown",
   "id": "25d587da-d221-489b-8ddf-0acee5f037bb",
   "metadata": {},
   "source": [
    "### Small Number of Lags, `max_samples_per_ts` = 10"
   ]
  },
  {
   "cell_type": "code",
   "execution_count": null,
   "id": "c6f50ab1-bc1b-4a55-b298-7a0129d8a547",
   "metadata": {},
   "outputs": [],
   "source": [
    "perform_benchmarks(\n",
    "    num_repeats=1000,\n",
    "    use_range_idx=False,\n",
    "    multi_models=True,\n",
    "    lags=[-1],\n",
    "    lags_past_covariates=[-2],\n",
    "    lags_future_covariates=[-3],\n",
    "    output_chunk_length=10,\n",
    "    max_samples_per_ts=10,\n",
    ")"
   ]
  },
  {
   "cell_type": "markdown",
   "id": "5aa483dd-5b5d-4f9f-8c68-6e35341e2259",
   "metadata": {},
   "source": [
    "### Large Number of Lags, No `max_samples_per_ts`"
   ]
  },
  {
   "cell_type": "code",
   "execution_count": null,
   "id": "e8a7f775-de0b-4d90-aa4b-09175b8ad8c1",
   "metadata": {},
   "outputs": [],
   "source": [
    "# Use fewer repeats here for sake of brevity (these benchmarks take longer):\n",
    "perform_benchmarks(\n",
    "    num_repeats=100,\n",
    "    use_range_idx=False,\n",
    "    multi_models=True,\n",
    "    lags=range(-30, 0, 1),\n",
    "    lags_past_covariates=range(-62, 0, 2),\n",
    "    lags_future_covariates=range(-100, 0, 3),\n",
    "    output_chunk_length=10,\n",
    "    max_samples_per_ts=None,\n",
    ")"
   ]
  },
  {
   "cell_type": "markdown",
   "id": "21c1bba6-8718-4002-b7fc-909a5203b2d0",
   "metadata": {},
   "source": [
    "### Large Number of Lags, `max_samples_per_ts` = 10"
   ]
  },
  {
   "cell_type": "code",
   "execution_count": null,
   "id": "ddae8be7-3e26-4990-8693-29206703af17",
   "metadata": {},
   "outputs": [],
   "source": [
    "# Use fewer repeats here for sake of brevity (these benchmarks take longer):\n",
    "perform_benchmarks(\n",
    "    num_repeats=100,\n",
    "    use_range_idx=False,\n",
    "    multi_models=True,\n",
    "    lags=range(-30, 0, 1),\n",
    "    lags_past_covariates=range(-62, 0, 2),\n",
    "    lags_future_covariates=range(-100, 0, 3),\n",
    "    output_chunk_length=10,\n",
    "    max_samples_per_ts=10,\n",
    ")"
   ]
  },
  {
   "cell_type": "markdown",
   "id": "6257bd9f-e2a8-4e05-b7ee-0af4363ceeaf",
   "metadata": {
    "tags": [],
    "vscode": {
     "languageId": "python"
    }
   },
   "source": [
    "## Unexpected Behaviour of `_create_lagged_data` when `is_training=False`"
   ]
  },
  {
   "cell_type": "markdown",
   "id": "b5a75990-e8f6-46f1-8b32-2396e3b3b7e7",
   "metadata": {},
   "source": [
    "This section describes a simple test example where `_create_lagged_data` shows unexpected behavior when\n",
    "`is_training = False`."
   ]
  },
  {
   "cell_type": "markdown",
   "id": "e70a71e6-1e4e-41b3-9559-cbfa058274a8",
   "metadata": {},
   "source": [
    "Let's first create a single component `target_series` and `past_series`. We'll define both series to have `5` timesteps, but `target_series` will be sampled every `1` timestep and `past_series` will be sampled every `2` timesteps:"
   ]
  },
  {
   "cell_type": "code",
   "execution_count": 1,
   "id": "c26a1340-82f2-409c-b8b4-466e15869114",
   "metadata": {},
   "outputs": [],
   "source": [
    "from darts.utils.data.tabularization import _create_lagged_data, create_lagged_data\n",
    "from tab_experiment_utils import create_index_series\n",
    "import numpy as np\n",
    "\n",
    "num_timesteps = 5\n",
    "# Have `target_series` values starting from 10 and `past_series` starting from 20:\n",
    "target_series = create_index_series(num_timesteps, num_components=1, offset=10, freq=1)\n",
    "past_series = create_index_series(num_timesteps, num_components=1, offset=20, freq=2)"
   ]
  },
  {
   "cell_type": "markdown",
   "id": "89129c75-e3b6-4d4e-a2bf-162b88bd103d",
   "metadata": {},
   "source": [
    "Let's visualise the values of these series alongside their `time_index`; the values are shown in the top row, whilst the `time_index` is shown in the bottom row:"
   ]
  },
  {
   "cell_type": "code",
   "execution_count": 2,
   "id": "13a714d6-1dab-4a18-82e4-39d6b906c66b",
   "metadata": {},
   "outputs": [
    {
     "name": "stdout",
     "output_type": "stream",
     "text": [
      "[[10. 11. 12. 13. 14.]\n",
      " [ 0.  1.  2.  3.  4.]]\n"
     ]
    }
   ],
   "source": [
    "# target_series\n",
    "print(np.stack([target_series.all_values().squeeze(), target_series.time_index]))"
   ]
  },
  {
   "cell_type": "code",
   "execution_count": 3,
   "id": "9eab814c-a5b2-46e3-bd47-3ff97cb9e576",
   "metadata": {},
   "outputs": [
    {
     "name": "stdout",
     "output_type": "stream",
     "text": [
      "[[20. 21. 22. 23. 24.]\n",
      " [ 0.  2.  4.  6.  8.]]\n"
     ]
    }
   ],
   "source": [
    "# past_series\n",
    "print(np.stack([past_series.all_values().squeeze(), past_series.time_index]))"
   ]
  },
  {
   "cell_type": "markdown",
   "id": "72f0e2a6-5818-4793-8ac7-fe3654ebaaa8",
   "metadata": {},
   "source": [
    "Let's now suppose we want to create lagged data using `lags = [-1]`, `lags_past_covariates = [-2]`, `output_chunk_length = 1`, `multi_models = 1`, and `max_samples_per_ts = 1`. When `is_training = True`, we observe that:"
   ]
  },
  {
   "cell_type": "code",
   "execution_count": 4,
   "id": "76500557-521a-4f14-a7e2-320fcd1673ab",
   "metadata": {},
   "outputs": [
    {
     "name": "stdout",
     "output_type": "stream",
     "text": [
      "Int64Index([4], dtype='int64', name='time')\n",
      "[[13. 20.]]\n"
     ]
    }
   ],
   "source": [
    "(X, y, Ts) = _create_lagged_data(\n",
    "    target_series,\n",
    "    lags=[-1],\n",
    "    past_covariates=past_series,\n",
    "    lags_past_covariates=[-2],\n",
    "    output_chunk_length=1,\n",
    "    multi_models=False,\n",
    "    is_training=True,\n",
    "    max_samples_per_ts=1,\n",
    ")\n",
    "print(Ts[0])\n",
    "print(X)"
   ]
  },
  {
   "cell_type": "markdown",
   "id": "7a5fba75-cbe5-4267-877d-128aa957ea41",
   "metadata": {},
   "source": [
    "This result is as expected:\n",
    "- `Ts` equals `4`, since it's the latest `time_index` which we can create features + labels for\n",
    "- `X[0]` is `13` since this is `-1` lag away from `t = 4` in `target_series`.\n",
    "- `X[1]` is `20` since this is `-2` lags away from `t = 4` in `past_series`."
   ]
  },
  {
   "cell_type": "markdown",
   "id": "0d0c286d-da30-4ae6-b51b-864f01cd9263",
   "metadata": {},
   "source": [
    "Let's now repeat this, but with `is_training = False`: "
   ]
  },
  {
   "cell_type": "code",
   "execution_count": 5,
   "id": "4be1ed64-4231-43d5-8f61-725486fd73a6",
   "metadata": {},
   "outputs": [
    {
     "name": "stdout",
     "output_type": "stream",
     "text": [
      "Int64Index([4], dtype='int64', name='time')\n",
      "[[13. 21.]]\n"
     ]
    }
   ],
   "source": [
    "(X, y, Ts) = _create_lagged_data(\n",
    "    target_series,\n",
    "    lags=[-1],\n",
    "    past_covariates=past_series,\n",
    "    lags_past_covariates=[-2],\n",
    "    output_chunk_length=1,\n",
    "    multi_models=False,\n",
    "    is_training=False,\n",
    "    max_samples_per_ts=1,\n",
    ")\n",
    "print(Ts[0])\n",
    "print(X)"
   ]
  },
  {
   "cell_type": "markdown",
   "id": "0fb069aa-4a52-4e56-a7df-d69a7964fb5f",
   "metadata": {},
   "source": [
    "What's unexpected about this result is that `X[1]` is `21`: this value is **not** `-2` lags away from `t = 4` in `past_series` but, instead, is only `-1` lags away from the `t = 4` value in `past_series`. "
   ]
  },
  {
   "cell_type": "markdown",
   "id": "8222f06f-bd88-4de0-983b-7b79c73bfc1f",
   "metadata": {},
   "source": [
    "For what it's worth, the reimplemented `create_lagged_data` produces the 'intuitively correct' result:"
   ]
  },
  {
   "cell_type": "code",
   "execution_count": 6,
   "id": "a684c15f-524f-4c50-9d24-c279277d5393",
   "metadata": {},
   "outputs": [
    {
     "name": "stdout",
     "output_type": "stream",
     "text": [
      "4\n",
      "[[[13.]\n",
      "  [20.]]]\n"
     ]
    }
   ],
   "source": [
    "(X, y, Ts) = create_lagged_data(\n",
    "    target_series,\n",
    "    lags=[-1],\n",
    "    past_covariates=past_series,\n",
    "    lags_past_covariates=[-2],\n",
    "    output_chunk_length=1,\n",
    "    multi_models=False,\n",
    "    is_training=False,\n",
    "    max_samples_per_ts=1,\n",
    ")\n",
    "print(Ts[0])\n",
    "print(X)"
   ]
  }
 ],
 "metadata": {
  "kernelspec": {
   "display_name": "Python 3",
   "language": "python",
   "name": "python3"
  },
  "language_info": {
   "codemirror_mode": {
    "name": "ipython",
    "version": 3
   },
   "file_extension": ".py",
   "mimetype": "text/x-python",
   "name": "python",
   "nbconvert_exporter": "python",
   "pygments_lexer": "ipython3",
   "version": "3.10.6"
  },
  "vscode": {
   "interpreter": {
    "hash": "916dbcbb3f70747c44a77c7bcd40155683ae19c65e1c03b4aa3499c5328201f1"
   }
  }
 },
 "nbformat": 4,
 "nbformat_minor": 5
}
